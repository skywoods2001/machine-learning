{
 "cells": [
  {
   "cell_type": "code",
   "execution_count": 1,
   "metadata": {
    "collapsed": true
   },
   "outputs": [],
   "source": [
    "## import required packages\n",
    "import numpy as np\n",
    "import pandas as pd\n",
    "\n",
    "## import the training data set, including bidder_id and type of the agent ('outcome')\n",
    "train_data = pd.read_csv(\"train.csv\")\n",
    "## bidding history, including both training ant test sets\n",
    "bid_history = pd.read_csv(\"bids.csv\")"
   ]
  },
  {
   "cell_type": "code",
   "execution_count": 2,
   "metadata": {
    "collapsed": true
   },
   "outputs": [],
   "source": [
    "def GetBlacklist():\n",
    "    blacklist_bidder = train_data[train_data['outcome'] == 1].bidder_id\n",
    "    blacklist_ip = bid_history[bid_history['bidder_id'].isin(blacklist_bidder)].ip.unique()\n",
    "    return blacklist_ip"
   ]
  },
  {
   "cell_type": "code",
   "execution_count": 3,
   "metadata": {
    "collapsed": false
   },
   "outputs": [],
   "source": [
    "def ConvertTime(history):\n",
    "    \n",
    "    SECONDS_PER_MINUTE = 60\n",
    "    SECONDS_PER_HOUR = SECONDS_PER_MINUTE * 60\n",
    "    SECONDS_PER_DAY  = SECONDS_PER_HOUR * 24\n",
    "    # convert time to seconds\n",
    "    history['time'] /= 52631580\n",
    "    # time start with 0 second\n",
    "    history['time'] -= min(history['time'])\n",
    "    history['day'] = (history['time'] / SECONDS_PER_DAY).astype(int)\n",
    "    history['hour'] = ((history['time'] % SECONDS_PER_DAY) / SECONDS_PER_HOUR).astype(int)\n",
    "    history['minute'] = (((history['time'] % SECONDS_PER_DAY) % SECONDS_PER_HOUR) / SECONDS_PER_MINUTE).astype(int)\n",
    "    history['second'] = (((history['time'] % SECONDS_PER_DAY) % SECONDS_PER_HOUR) % SECONDS_PER_MINUTE)"
   ]
  },
  {
   "cell_type": "code",
   "execution_count": 4,
   "metadata": {
    "collapsed": false
   },
   "outputs": [],
   "source": [
    "ConvertTime(bid_history)"
   ]
  },
  {
   "cell_type": "code",
   "execution_count": 5,
   "metadata": {
    "collapsed": false
   },
   "outputs": [],
   "source": [
    "def GenerateFeature(bidders, history, training):\n",
    "    \"\"\"\n",
    "    Read the data set and generate the corresponding features\n",
    "    @param bidders: dataframe including fields of 'bidder_id'. If it is a training set, it also includes the label of the bidder\n",
    "    @param history: bidding history of all bidders\n",
    "    @param training: Boolean value. True if data is a training set; False if data is a test set\n",
    "    @return df: data frame with features\n",
    "    \"\"\"\n",
    "    if training:\n",
    "        df = bidders.loc[:,['bidder_id','outcome']]\n",
    "    else:\n",
    "        df = bidders.loc[:,['bidder_id']]\n",
    "    \n",
    "    # total number of bids performed by each bidder\n",
    "    num_bids = history['bidder_id'].value_counts().to_frame()\n",
    "    num_bids.columns = ['num_bids']\n",
    "    df = bidders.loc[:,['bidder_id','outcome']].join(num_bids, on = 'bidder_id', lsuffix='_l')\n",
    "    print \"Get num_bids\"\n",
    "    # discard bidders who did not submit any bid\n",
    "    # df = df[~df.num_bids.isnull()]\n",
    "    \n",
    "    \n",
    "    history = history.sort_values(by=['bidder_id', 'time', 'auction'])\n",
    "    history['time_diff_same_auction'] = history.groupby(['bidder_id','auction'])['time'].diff()\n",
    "    min_time_diff_same_auction = history.groupby(['bidder_id'])['time_diff_same_auction'].median()\n",
    "    min_time_diff_same_auction = min_time_diff_same_auction.fillna(min_time_diff_same_auction.max()*100)\n",
    "    min_time_diff_same_auction = pd.DataFrame({'bidder_id': min_time_diff_same_auction.index, 'min_time_diff_same_auction': min_time_diff_same_auction.values})\n",
    "    df = pd.merge(df, min_time_diff_same_auction, on = 'bidder_id', how = 'left')\n",
    "    print \"Get min_time_diff_same_auction\"\n",
    "    \n",
    "    # get the max number of bids by each bidder in 20 minute\n",
    "    \n",
    "    TIME_SEGMENT = 20\n",
    "    history['segement_id_20min'] = (history['minute'] / TIME_SEGMENT).astype(int)\n",
    "    numbids_per_auction_20min = history.groupby(['bidder_id','auction', 'segement_id_20min']).apply(len)\n",
    "    max_numbids_per_auction_20min = numbids_per_auction_20min.max(level=[0])\n",
    "    max_numbids_per_auction_20min = pd.DataFrame({'bidder_id': max_numbids_per_auction_20min.index, 'max_numbids_per_auction_20min': max_numbids_per_auction_20min.values})\n",
    "    df = pd.merge(df, max_numbids_per_auction_20min, on = 'bidder_id', how = 'left')\n",
    "    print \"Get max_numbids_per_auction_20min\"\n",
    "     \n",
    "    \n",
    "    # get the number of auctions participated by a bidder\n",
    "    num_auction = bid_history.groupby('bidder_id')['auction'].unique().apply(len)\n",
    "    num_auction = pd.DataFrame({'bidder_id': num_auction.index, 'num_auction': num_auction.values})\n",
    "    df = pd.merge(df,num_auction, on = 'bidder_id', how = 'left')\n",
    "    print \"Get num_auction\"\n",
    "    \n",
    "\n",
    "    # get the number of urls used by a bidder\n",
    "    num_url = bid_history.groupby('bidder_id')['url'].unique().apply(len)\n",
    "    num_url = pd.DataFrame({'bidder_id': num_url.index, 'num_url': num_url.values})\n",
    "    df = pd.merge(df,num_url, on = 'bidder_id', how = 'left')\n",
    "    print \"Get num_url\"\n",
    "    \n",
    "    \n",
    "    # get the number of urls used by a bidder\n",
    "    #num_url_each_device = bid_history.groupby(['bidder_id','device'])['url'].unique().apply(len)\n",
    "    #std_num_url_each_device = num_url_each_device.std(level=[0])\n",
    "    #std_num_url_each_device = pd.DataFrame({'bidder_id': std_num_url_each_device.index, 'std_num_url_each_device': std_num_url_each_device.values})\n",
    "    #df = pd.merge(df, std_num_url_each_device, on = 'bidder_id', how = 'left')\n",
    "    #print \"Get std_num_url_each_device\"\n",
    "    \n",
    "    \n",
    "    # get the number of countries that a bidder is located\n",
    "    num_country = bid_history.groupby('bidder_id')['country'].unique().apply(len)\n",
    "    num_country = pd.DataFrame({'bidder_id': num_country.index, 'num_country': num_country.values})\n",
    "    df = pd.merge(df,num_country, on = 'bidder_id', how = 'left')\n",
    "    print \"Get num_country\"\n",
    "    \n",
    "    # get the number of devices used by a bidder\n",
    "    num_device = bid_history.groupby('bidder_id')['device'].unique().apply(len)\n",
    "    num_device = pd.DataFrame({'bidder_id': num_device.index, 'num_device': num_device.values})\n",
    "    df = pd.merge(df,num_device, on = 'bidder_id', how = 'left')\n",
    "    print \"Get num_device\"\n",
    "    \n",
    "    # get the number of ip addresses used by a bidder\n",
    "    num_ip = bid_history.groupby('bidder_id')['ip'].unique().apply(len)\n",
    "    num_ip = pd.DataFrame({'bidder_id': num_ip.index, 'num_ip': num_ip.values})\n",
    "    df = pd.merge(df,num_ip, on = 'bidder_id', how = 'left')\n",
    "    print \"Get num_ip\"\n",
    "    \n",
    "    \n",
    "    \"\"\"\n",
    "    # get blacklist ip count for each bidder\n",
    "    blacklist_ip = GetBlackList()\n",
    "    history['is_blacklist_ip'] = history['ip'].isin(blacklist_ip)\n",
    "    count_blacklist_ip = history.groupby(['bidder_id'])['is_blacklist_ip'].sum()\n",
    "    count_blacklist_ip = pd.DataFrame({'bidder_id': count_blacklist_ip.index, 'count_blacklist_ip': count_blacklist_ip.values})\n",
    "    df = pd.merge(df,count_blacklist_ip, on = 'bidder_id', how = 'left')\n",
    "    df['percent_blacklist_per_bidder'] = df['count_blacklist_ip'] / df['num_bids']\n",
    "    df = df.drop('count_blacklist_ip', 1)\n",
    "    print \"Get percent_blacklist_per_bidder\"\n",
    "    \"\"\"\n",
    "    \n",
    "    # get the probability that a bidder wins an auction\n",
    "    winner_id = bid_history.loc[bid_history.groupby('auction')['time'].idxmax()].bidder_id\n",
    "    win_counts = pd.DataFrame({'bidder_id': winner_id.value_counts().index, 'win_counts': winner_id.value_counts().values})\n",
    "    df = pd.merge(df,win_counts, on = 'bidder_id', how = 'left')\n",
    "    df.win_counts = df.win_counts.fillna(0)\n",
    "    df['win_prob'] = df['win_counts'] / df['num_auction']\n",
    "    df = df.drop('win_counts', 1)\n",
    "    print \"Get win_prob\"\n",
    "    \n",
    "    # get the average number of urls used by a device\n",
    "    df['avg_num_url_per_device'] = df.num_url / df.num_device\n",
    "    df['avg_num_url_per_device'] = df['avg_num_url_per_device'].fillna(0)\n",
    "    \n",
    "    \n",
    "    # For users not\n",
    "    df = df.fillna(0)\n",
    "    return df\n",
    "\n",
    "\n",
    "\n",
    "\n",
    "    "
   ]
  },
  {
   "cell_type": "code",
   "execution_count": 6,
   "metadata": {
    "collapsed": false,
    "scrolled": false
   },
   "outputs": [
    {
     "name": "stdout",
     "output_type": "stream",
     "text": [
      "Get num_bids\n",
      "Get min_time_diff_same_auction\n",
      "Get max_numbids_per_auction_20min\n",
      "Get num_auction\n",
      "Get num_url\n",
      "Get num_country\n",
      "Get num_device\n",
      "Get num_ip\n",
      "Get win_prob\n"
     ]
    }
   ],
   "source": [
    "df = GenerateFeature(train_data, bid_history, training = True)"
   ]
  },
  {
   "cell_type": "code",
   "execution_count": 7,
   "metadata": {
    "collapsed": false
   },
   "outputs": [],
   "source": [
    "df_human = df[df['outcome'] == 0]\n",
    "bidder_maxbids_human = df_human.ix[df_human['num_bids'].idxmax()].bidder_id\n",
    "df_robot = df[df['outcome'] == 1]\n",
    "bidder_maxbids_robot = df_robot.ix[df_robot['num_bids'].idxmax()].bidder_id"
   ]
  },
  {
   "cell_type": "code",
   "execution_count": 8,
   "metadata": {
    "collapsed": false
   },
   "outputs": [
    {
     "data": {
      "text/plain": [
       "day\n",
       "0     117367\n",
       "1     115310\n",
       "2     136371\n",
       "13         1\n",
       "14     44522\n",
       "15     44356\n",
       "16     57106\n",
       "dtype: int64"
      ]
     },
     "execution_count": 8,
     "metadata": {},
     "output_type": "execute_result"
    }
   ],
   "source": [
    "bid_history.groupby(['bidder_id','day']).apply(len)[bidder_maxbids_human]"
   ]
  },
  {
   "cell_type": "code",
   "execution_count": 9,
   "metadata": {
    "collapsed": false
   },
   "outputs": [
    {
     "data": {
      "text/plain": [
       "auction  day\n",
       "00270    14      17\n",
       "         15     278\n",
       "         16     532\n",
       "021em    15       9\n",
       "         16      82\n",
       "030jb    14       2\n",
       "         16       1\n",
       "05bab    14       1\n",
       "05x67    15      34\n",
       "         16       8\n",
       "06dre    14       1\n",
       "074j7    15      37\n",
       "         16       7\n",
       "0bnvn    1        1\n",
       "0bpbx    1        1\n",
       "0cuy6    14      38\n",
       "0d5z1    14      34\n",
       "         15      37\n",
       "0i42l    1        1\n",
       "0jy69    14      18\n",
       "         15      11\n",
       "         16       8\n",
       "0kr63    0        3\n",
       "0lm5o    15       2\n",
       "         16       1\n",
       "0lou5    1        2\n",
       "         2        3\n",
       "0mlsx    14     412\n",
       "         15     315\n",
       "         16     474\n",
       "               ... \n",
       "zlh83    1       14\n",
       "         2        9\n",
       "zlz1o    2        1\n",
       "         14       1\n",
       "zm30m    1        1\n",
       "         14       2\n",
       "         15       6\n",
       "         16       3\n",
       "zm7mm    14       5\n",
       "         15       2\n",
       "         16       7\n",
       "zoodn    14       3\n",
       "         15       1\n",
       "zprwa    0        7\n",
       "         1        5\n",
       "         2       11\n",
       "ztr30    16       1\n",
       "zu7ij    14       4\n",
       "         15       1\n",
       "         16       1\n",
       "zurpm    14      95\n",
       "         15       3\n",
       "         16       2\n",
       "zxtzp    14       4\n",
       "         15       7\n",
       "         16       2\n",
       "zz2zx    0       15\n",
       "         1        7\n",
       "         2        3\n",
       "         14       6\n",
       "dtype: int64"
      ]
     },
     "execution_count": 9,
     "metadata": {},
     "output_type": "execute_result"
    }
   ],
   "source": [
    "bid_history.groupby(['bidder_id','auction','day']).apply(len)[bidder_maxbids_robot]"
   ]
  },
  {
   "cell_type": "code",
   "execution_count": 10,
   "metadata": {
    "collapsed": false
   },
   "outputs": [
    {
     "data": {
      "text/html": [
       "<div>\n",
       "<table border=\"1\" class=\"dataframe\">\n",
       "  <thead>\n",
       "    <tr style=\"text-align: right;\">\n",
       "      <th></th>\n",
       "      <th>outcome</th>\n",
       "      <th>num_bids</th>\n",
       "      <th>min_time_diff_same_auction</th>\n",
       "      <th>max_numbids_per_auction_20min</th>\n",
       "      <th>num_auction</th>\n",
       "      <th>num_url</th>\n",
       "      <th>num_country</th>\n",
       "      <th>num_device</th>\n",
       "      <th>num_ip</th>\n",
       "      <th>win_prob</th>\n",
       "      <th>avg_num_url_per_device</th>\n",
       "    </tr>\n",
       "  </thead>\n",
       "  <tbody>\n",
       "    <tr>\n",
       "      <th>count</th>\n",
       "      <td>103.0</td>\n",
       "      <td>103.000000</td>\n",
       "      <td>1.030000e+02</td>\n",
       "      <td>103.000000</td>\n",
       "      <td>103.000000</td>\n",
       "      <td>103.000000</td>\n",
       "      <td>103.000000</td>\n",
       "      <td>103.000000</td>\n",
       "      <td>103.000000</td>\n",
       "      <td>103.000000</td>\n",
       "      <td>103.000000</td>\n",
       "    </tr>\n",
       "    <tr>\n",
       "      <th>mean</th>\n",
       "      <td>1.0</td>\n",
       "      <td>4004.038835</td>\n",
       "      <td>6.640188e+06</td>\n",
       "      <td>340.912621</td>\n",
       "      <td>145.038835</td>\n",
       "      <td>544.582524</td>\n",
       "      <td>26.475728</td>\n",
       "      <td>163.611650</td>\n",
       "      <td>2387.796117</td>\n",
       "      <td>0.043726</td>\n",
       "      <td>7.611989</td>\n",
       "    </tr>\n",
       "    <tr>\n",
       "      <th>std</th>\n",
       "      <td>0.0</td>\n",
       "      <td>16370.097403</td>\n",
       "      <td>2.953348e+07</td>\n",
       "      <td>2082.187157</td>\n",
       "      <td>195.103186</td>\n",
       "      <td>1163.909786</td>\n",
       "      <td>31.158622</td>\n",
       "      <td>222.811854</td>\n",
       "      <td>11269.674137</td>\n",
       "      <td>0.113448</td>\n",
       "      <td>29.596003</td>\n",
       "    </tr>\n",
       "    <tr>\n",
       "      <th>min</th>\n",
       "      <td>1.0</td>\n",
       "      <td>1.000000</td>\n",
       "      <td>8.000000e+00</td>\n",
       "      <td>1.000000</td>\n",
       "      <td>1.000000</td>\n",
       "      <td>1.000000</td>\n",
       "      <td>1.000000</td>\n",
       "      <td>1.000000</td>\n",
       "      <td>1.000000</td>\n",
       "      <td>0.000000</td>\n",
       "      <td>0.008065</td>\n",
       "    </tr>\n",
       "    <tr>\n",
       "      <th>25%</th>\n",
       "      <td>1.0</td>\n",
       "      <td>288.000000</td>\n",
       "      <td>1.000000e+02</td>\n",
       "      <td>24.000000</td>\n",
       "      <td>23.000000</td>\n",
       "      <td>4.500000</td>\n",
       "      <td>3.000000</td>\n",
       "      <td>4.500000</td>\n",
       "      <td>34.000000</td>\n",
       "      <td>0.000000</td>\n",
       "      <td>0.607692</td>\n",
       "    </tr>\n",
       "    <tr>\n",
       "      <th>50%</th>\n",
       "      <td>1.0</td>\n",
       "      <td>716.000000</td>\n",
       "      <td>6.090000e+02</td>\n",
       "      <td>55.000000</td>\n",
       "      <td>74.000000</td>\n",
       "      <td>88.000000</td>\n",
       "      <td>13.000000</td>\n",
       "      <td>78.000000</td>\n",
       "      <td>290.000000</td>\n",
       "      <td>0.009901</td>\n",
       "      <td>2.000000</td>\n",
       "    </tr>\n",
       "    <tr>\n",
       "      <th>75%</th>\n",
       "      <td>1.0</td>\n",
       "      <td>2332.500000</td>\n",
       "      <td>1.405750e+03</td>\n",
       "      <td>137.000000</td>\n",
       "      <td>170.500000</td>\n",
       "      <td>591.000000</td>\n",
       "      <td>41.500000</td>\n",
       "      <td>219.000000</td>\n",
       "      <td>1089.000000</td>\n",
       "      <td>0.039779</td>\n",
       "      <td>4.195547</td>\n",
       "    </tr>\n",
       "    <tr>\n",
       "      <th>max</th>\n",
       "      <td>1.0</td>\n",
       "      <td>161935.000000</td>\n",
       "      <td>1.367542e+08</td>\n",
       "      <td>21104.000000</td>\n",
       "      <td>1018.000000</td>\n",
       "      <td>8551.000000</td>\n",
       "      <td>179.000000</td>\n",
       "      <td>1144.000000</td>\n",
       "      <td>111918.000000</td>\n",
       "      <td>1.000000</td>\n",
       "      <td>248.666667</td>\n",
       "    </tr>\n",
       "  </tbody>\n",
       "</table>\n",
       "</div>"
      ],
      "text/plain": [
       "       outcome       num_bids  min_time_diff_same_auction  \\\n",
       "count    103.0     103.000000                1.030000e+02   \n",
       "mean       1.0    4004.038835                6.640188e+06   \n",
       "std        0.0   16370.097403                2.953348e+07   \n",
       "min        1.0       1.000000                8.000000e+00   \n",
       "25%        1.0     288.000000                1.000000e+02   \n",
       "50%        1.0     716.000000                6.090000e+02   \n",
       "75%        1.0    2332.500000                1.405750e+03   \n",
       "max        1.0  161935.000000                1.367542e+08   \n",
       "\n",
       "       max_numbids_per_auction_20min  num_auction      num_url  num_country  \\\n",
       "count                     103.000000   103.000000   103.000000   103.000000   \n",
       "mean                      340.912621   145.038835   544.582524    26.475728   \n",
       "std                      2082.187157   195.103186  1163.909786    31.158622   \n",
       "min                         1.000000     1.000000     1.000000     1.000000   \n",
       "25%                        24.000000    23.000000     4.500000     3.000000   \n",
       "50%                        55.000000    74.000000    88.000000    13.000000   \n",
       "75%                       137.000000   170.500000   591.000000    41.500000   \n",
       "max                     21104.000000  1018.000000  8551.000000   179.000000   \n",
       "\n",
       "        num_device         num_ip    win_prob  avg_num_url_per_device  \n",
       "count   103.000000     103.000000  103.000000              103.000000  \n",
       "mean    163.611650    2387.796117    0.043726                7.611989  \n",
       "std     222.811854   11269.674137    0.113448               29.596003  \n",
       "min       1.000000       1.000000    0.000000                0.008065  \n",
       "25%       4.500000      34.000000    0.000000                0.607692  \n",
       "50%      78.000000     290.000000    0.009901                2.000000  \n",
       "75%     219.000000    1089.000000    0.039779                4.195547  \n",
       "max    1144.000000  111918.000000    1.000000              248.666667  "
      ]
     },
     "execution_count": 10,
     "metadata": {},
     "output_type": "execute_result"
    }
   ],
   "source": [
    "df['avg_num_url_per_device'] = df.num_url / df.num_device\n",
    "df['avg_num_url_per_device'] = df['avg_num_url_per_device'].fillna(0)\n",
    "df[(df['outcome'] == 1)].describe()"
   ]
  },
  {
   "cell_type": "code",
   "execution_count": 11,
   "metadata": {
    "collapsed": false
   },
   "outputs": [
    {
     "data": {
      "text/html": [
       "<div>\n",
       "<table border=\"1\" class=\"dataframe\">\n",
       "  <thead>\n",
       "    <tr style=\"text-align: right;\">\n",
       "      <th></th>\n",
       "      <th>outcome</th>\n",
       "      <th>num_bids</th>\n",
       "      <th>min_time_diff_same_auction</th>\n",
       "      <th>max_numbids_per_auction_20min</th>\n",
       "      <th>num_auction</th>\n",
       "      <th>num_url</th>\n",
       "      <th>num_country</th>\n",
       "      <th>num_device</th>\n",
       "      <th>num_ip</th>\n",
       "      <th>win_prob</th>\n",
       "      <th>avg_num_url_per_device</th>\n",
       "    </tr>\n",
       "  </thead>\n",
       "  <tbody>\n",
       "    <tr>\n",
       "      <th>count</th>\n",
       "      <td>1910.0</td>\n",
       "      <td>1910.000000</td>\n",
       "      <td>1.910000e+03</td>\n",
       "      <td>1910.000000</td>\n",
       "      <td>1910.000000</td>\n",
       "      <td>1910.000000</td>\n",
       "      <td>1910.000000</td>\n",
       "      <td>1910.000000</td>\n",
       "      <td>1910.000000</td>\n",
       "      <td>1910.000000</td>\n",
       "      <td>1910.000000</td>\n",
       "    </tr>\n",
       "    <tr>\n",
       "      <th>mean</th>\n",
       "      <td>0.0</td>\n",
       "      <td>1392.046073</td>\n",
       "      <td>4.027183e+07</td>\n",
       "      <td>70.293717</td>\n",
       "      <td>57.189005</td>\n",
       "      <td>330.097906</td>\n",
       "      <td>12.484293</td>\n",
       "      <td>72.824607</td>\n",
       "      <td>572.430890</td>\n",
       "      <td>0.011359</td>\n",
       "      <td>1.234794</td>\n",
       "    </tr>\n",
       "    <tr>\n",
       "      <th>std</th>\n",
       "      <td>0.0</td>\n",
       "      <td>14487.265477</td>\n",
       "      <td>6.231404e+07</td>\n",
       "      <td>446.081612</td>\n",
       "      <td>142.021381</td>\n",
       "      <td>2714.979379</td>\n",
       "      <td>22.748897</td>\n",
       "      <td>183.376886</td>\n",
       "      <td>4109.721882</td>\n",
       "      <td>0.047504</td>\n",
       "      <td>2.094095</td>\n",
       "    </tr>\n",
       "    <tr>\n",
       "      <th>min</th>\n",
       "      <td>0.0</td>\n",
       "      <td>0.000000</td>\n",
       "      <td>0.000000e+00</td>\n",
       "      <td>0.000000</td>\n",
       "      <td>0.000000</td>\n",
       "      <td>0.000000</td>\n",
       "      <td>0.000000</td>\n",
       "      <td>0.000000</td>\n",
       "      <td>0.000000</td>\n",
       "      <td>0.000000</td>\n",
       "      <td>0.000000</td>\n",
       "    </tr>\n",
       "    <tr>\n",
       "      <th>25%</th>\n",
       "      <td>0.0</td>\n",
       "      <td>3.000000</td>\n",
       "      <td>2.704375e+03</td>\n",
       "      <td>1.000000</td>\n",
       "      <td>2.000000</td>\n",
       "      <td>1.000000</td>\n",
       "      <td>1.000000</td>\n",
       "      <td>2.000000</td>\n",
       "      <td>2.000000</td>\n",
       "      <td>0.000000</td>\n",
       "      <td>0.500000</td>\n",
       "    </tr>\n",
       "    <tr>\n",
       "      <th>50%</th>\n",
       "      <td>0.0</td>\n",
       "      <td>14.000000</td>\n",
       "      <td>2.498600e+04</td>\n",
       "      <td>2.000000</td>\n",
       "      <td>9.000000</td>\n",
       "      <td>4.000000</td>\n",
       "      <td>3.000000</td>\n",
       "      <td>7.000000</td>\n",
       "      <td>10.000000</td>\n",
       "      <td>0.000000</td>\n",
       "      <td>1.000000</td>\n",
       "    </tr>\n",
       "    <tr>\n",
       "      <th>75%</th>\n",
       "      <td>0.0</td>\n",
       "      <td>136.000000</td>\n",
       "      <td>1.367542e+08</td>\n",
       "      <td>11.000000</td>\n",
       "      <td>40.000000</td>\n",
       "      <td>33.000000</td>\n",
       "      <td>10.000000</td>\n",
       "      <td>50.000000</td>\n",
       "      <td>86.750000</td>\n",
       "      <td>0.000000</td>\n",
       "      <td>1.000000</td>\n",
       "    </tr>\n",
       "    <tr>\n",
       "      <th>max</th>\n",
       "      <td>0.0</td>\n",
       "      <td>515033.000000</td>\n",
       "      <td>1.367542e+08</td>\n",
       "      <td>8543.000000</td>\n",
       "      <td>1623.000000</td>\n",
       "      <td>81376.000000</td>\n",
       "      <td>164.000000</td>\n",
       "      <td>2618.000000</td>\n",
       "      <td>109159.000000</td>\n",
       "      <td>0.916667</td>\n",
       "      <td>39.143660</td>\n",
       "    </tr>\n",
       "  </tbody>\n",
       "</table>\n",
       "</div>"
      ],
      "text/plain": [
       "       outcome       num_bids  min_time_diff_same_auction  \\\n",
       "count   1910.0    1910.000000                1.910000e+03   \n",
       "mean       0.0    1392.046073                4.027183e+07   \n",
       "std        0.0   14487.265477                6.231404e+07   \n",
       "min        0.0       0.000000                0.000000e+00   \n",
       "25%        0.0       3.000000                2.704375e+03   \n",
       "50%        0.0      14.000000                2.498600e+04   \n",
       "75%        0.0     136.000000                1.367542e+08   \n",
       "max        0.0  515033.000000                1.367542e+08   \n",
       "\n",
       "       max_numbids_per_auction_20min  num_auction       num_url  num_country  \\\n",
       "count                    1910.000000  1910.000000   1910.000000  1910.000000   \n",
       "mean                       70.293717    57.189005    330.097906    12.484293   \n",
       "std                       446.081612   142.021381   2714.979379    22.748897   \n",
       "min                         0.000000     0.000000      0.000000     0.000000   \n",
       "25%                         1.000000     2.000000      1.000000     1.000000   \n",
       "50%                         2.000000     9.000000      4.000000     3.000000   \n",
       "75%                        11.000000    40.000000     33.000000    10.000000   \n",
       "max                      8543.000000  1623.000000  81376.000000   164.000000   \n",
       "\n",
       "        num_device         num_ip     win_prob  avg_num_url_per_device  \n",
       "count  1910.000000    1910.000000  1910.000000             1910.000000  \n",
       "mean     72.824607     572.430890     0.011359                1.234794  \n",
       "std     183.376886    4109.721882     0.047504                2.094095  \n",
       "min       0.000000       0.000000     0.000000                0.000000  \n",
       "25%       2.000000       2.000000     0.000000                0.500000  \n",
       "50%       7.000000      10.000000     0.000000                1.000000  \n",
       "75%      50.000000      86.750000     0.000000                1.000000  \n",
       "max    2618.000000  109159.000000     0.916667               39.143660  "
      ]
     },
     "execution_count": 11,
     "metadata": {},
     "output_type": "execute_result"
    }
   ],
   "source": [
    "df[(df['outcome'] == 0)].describe()"
   ]
  },
  {
   "cell_type": "code",
   "execution_count": 12,
   "metadata": {
    "collapsed": false
   },
   "outputs": [],
   "source": [
    "X_all = df.loc[:,'num_bids':]\n",
    "y_all = df['outcome']\n",
    "num_features = X_all.shape[1]\n"
   ]
  },
  {
   "cell_type": "code",
   "execution_count": 13,
   "metadata": {
    "collapsed": false
   },
   "outputs": [],
   "source": [
    "#from sklearn.cross_validation import train_test_split\n",
    "#X_train, X_test, y_train, y_test = train_test_split(X_all, y_all, stratify = y_all, test_size=0.2, random_state=42)"
   ]
  },
  {
   "cell_type": "code",
   "execution_count": 15,
   "metadata": {
    "collapsed": false,
    "scrolled": true
   },
   "outputs": [],
   "source": [
    "from sklearn.grid_search import GridSearchCV \n",
    "from sklearn.metrics import make_scorer, roc_auc_score\n",
    "from sklearn.ensemble import RandomForestRegressor\n",
    "\n",
    "\n",
    "def PredictMultiRandomForest(X_all, seed):\n",
    "    \n",
    "    \n",
    "    num_features = X_all.shape[1]\n",
    "    \n",
    "    # Create the parameters list you wish to tune\n",
    "    parameters = {'max_features': range(1,num_features+1), 'max_depth':range(1,10)}\n",
    "\n",
    "    # Initialize the classifier\n",
    "    clf = RandomForestRegressor(random_state = seed)\n",
    "\n",
    "    # Make an f1 scoring function using 'make_scorer' \n",
    "    roc_auc_scorer = make_scorer(roc_auc_score)\n",
    "\n",
    "    # Perform grid search on the classifier using the f1_scorer as the scoring method\n",
    "    grid_obj = GridSearchCV(clf, parameters, scoring = roc_auc_scorer, cv = 5)\n",
    "\n",
    "    # Fit the grid search object to the training data and find the optimal parameters\n",
    "    grid_obj = grid_obj.fit(X_all, y_all)\n",
    "\n",
    "    # Get the estimator\n",
    "    clf = grid_obj.best_estimator_\n",
    "    \n",
    "    return clf\n",
    "\n",
    "seed = [0, 10, 20, 30, 40];\n",
    "clf_list = [0] * len(seed)\n",
    "i = 0\n",
    "\n",
    "for s in seed:\n",
    "    clf_list[i] = PredictMultiRandomForest(X_all, s)\n",
    "    #y_pred_train = clf.predict(X_train)\n",
    "    #y_pred_test += clf_list[i].predict(X_test) * 1.0 / len(seed)\n",
    "    i += 1\n",
    "# Report the final AUC score for training and testing after parameter tuning\n",
    "#print \"Tuned model has a training AUC score of {:.4f}.\".format(roc_auc_score(y_train, y_pred_train))\n",
    "#print \"Tuned model has a testing AUC score of {:.4f}.\".format(roc_auc_score(y_test, y_pred_test))"
   ]
  },
  {
   "cell_type": "code",
   "execution_count": 16,
   "metadata": {
    "collapsed": false
   },
   "outputs": [
    {
     "name": "stdout",
     "output_type": "stream",
     "text": [
      "Get num_bids\n",
      "Get min_time_diff_same_auction\n",
      "Get max_numbids_per_auction_20min\n",
      "Get num_auction\n",
      "Get num_url\n",
      "Get num_country\n",
      "Get num_device\n",
      "Get num_ip\n",
      "Get win_prob\n"
     ]
    }
   ],
   "source": [
    "test_data = pd.read_csv(\"test.csv\")\n",
    "df_test = GenerateFeature(test_data, bid_history, training = False)"
   ]
  },
  {
   "cell_type": "code",
   "execution_count": 17,
   "metadata": {
    "collapsed": false
   },
   "outputs": [],
   "source": [
    "X_test_all = df_test.loc[:,'num_bids':]"
   ]
  },
  {
   "cell_type": "code",
   "execution_count": 18,
   "metadata": {
    "collapsed": false
   },
   "outputs": [
    {
     "name": "stdout",
     "output_type": "stream",
     "text": [
      "5\n"
     ]
    }
   ],
   "source": [
    "print len(clf_list)\n",
    "final_pred =[0] * X_test_all.shape[0]\n",
    "for clf in clf_list:\n",
    "    final_pred += clf.predict(X_test_all) * 1.0 / len(clf_list)\n"
   ]
  },
  {
   "cell_type": "code",
   "execution_count": 19,
   "metadata": {
    "collapsed": false
   },
   "outputs": [
    {
     "data": {
      "text/plain": [
       "0.77284615322121175"
      ]
     },
     "execution_count": 19,
     "metadata": {},
     "output_type": "execute_result"
    }
   ],
   "source": [
    "max(final_pred)"
   ]
  },
  {
   "cell_type": "code",
   "execution_count": 22,
   "metadata": {
    "collapsed": false
   },
   "outputs": [],
   "source": [
    "output_dataframe = pd.DataFrame({'bidder_id':df_test.bidder_id,'prediction':final_pred})"
   ]
  },
  {
   "cell_type": "code",
   "execution_count": 23,
   "metadata": {
    "collapsed": false
   },
   "outputs": [],
   "source": [
    "output_dataframe.to_csv('out.csv', index = False)"
   ]
  },
  {
   "cell_type": "code",
   "execution_count": null,
   "metadata": {
    "collapsed": true
   },
   "outputs": [],
   "source": []
  }
 ],
 "metadata": {
  "anaconda-cloud": {},
  "kernelspec": {
   "display_name": "Python [default]",
   "language": "python",
   "name": "python2"
  },
  "language_info": {
   "codemirror_mode": {
    "name": "ipython",
    "version": 2
   },
   "file_extension": ".py",
   "mimetype": "text/x-python",
   "name": "python",
   "nbconvert_exporter": "python",
   "pygments_lexer": "ipython2",
   "version": "2.7.12"
  }
 },
 "nbformat": 4,
 "nbformat_minor": 1
}
